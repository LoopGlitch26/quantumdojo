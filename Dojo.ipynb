{
 "cells": [
  {
   "cell_type": "markdown",
   "metadata": {},
   "source": [
    "# Quantum Circuit Intuition Dojo"
   ]
  },
  {
   "cell_type": "markdown",
   "metadata": {},
   "source": [
    "![](qid.png)\n",
    "\n",
    "> \"A dōjō is a hall or place for immersive learning or meditation. This is traditionally in the field of martial arts, but has been seen increasingly in other fields, such as meditation and software development. The term literally means \"place of the Way\" in Japanese.\" -Wikipedia"
   ]
  },
  {
   "cell_type": "code",
   "execution_count": null,
   "metadata": {
    "ExecuteTime": {
     "end_time": "2018-09-25T16:48:16.163745Z",
     "start_time": "2018-09-25T16:48:15.794756Z"
    }
   },
   "outputs": [],
   "source": [
    "from Sensei import *"
   ]
  },
  {
   "cell_type": "markdown",
   "metadata": {},
   "source": [
    "### First, choose a 'practice' by calling `Sensei(seed, stage)`. \n",
    "The stage controls the starting level of difficulty and the seed controls random level generation.\n",
    "To generate a different circuit with the same difficulty level, change the seed.\n",
    "To compete against someone else you both can use the same seed."
   ]
  },
  {
   "cell_type": "code",
   "execution_count": null,
   "metadata": {
    "scrolled": false
   },
   "outputs": [],
   "source": [
    "sensei = Sensei(42, stage=0) # things get hard around stage 13"
   ]
  },
  {
   "cell_type": "markdown",
   "metadata": {},
   "source": [
    "### Use sensei.practice() to create a hidden circuit that you must replicate"
   ]
  },
  {
   "cell_type": "code",
   "execution_count": null,
   "metadata": {},
   "outputs": [],
   "source": [
    "hc = sensei.practice()"
   ]
  },
  {
   "cell_type": "markdown",
   "metadata": {},
   "source": [
    "#### You can probe the circuit by adding some operators at the beginning to see what the circuit does for different input states. \n",
    "This is done by calling `get_empty_circuit()`, adding your gates to this circuit, and then calling `prepend()`.\n",
    "You will see a bloch sphere indicating the final state vector computed by prepending your circuit to the hidden circuit. You can also pass a different plot function as an argument (e.g. `plot_fn=plot_state_city`)\n",
    "\n",
    "If you don't add any gates, you will simply see the result of the hidden circuit."
   ]
  },
  {
   "cell_type": "code",
   "execution_count": null,
   "metadata": {
    "scrolled": true
   },
   "outputs": [],
   "source": [
    "c = hc.get_empty_circuit()\n",
    "\n",
    "# Add your gates here \n",
    "\n",
    "hc.prepend(c)"
   ]
  },
  {
   "cell_type": "markdown",
   "metadata": {},
   "source": [
    "#### ... you could also probe the circuit by adding some operators at the end and attempting to 'uncompute' the hidden circuit.\n",
    "This can be done by calling `get_empty_circuit()`, adding your gates to this circuit, and then calling `append()`. You can also pass a different plot function as an argument (e.g. `plot_fn=plot_state_city`)"
   ]
  },
  {
   "cell_type": "code",
   "execution_count": null,
   "metadata": {},
   "outputs": [],
   "source": [
    "c = hc.get_empty_circuit()\n",
    "\n",
    "# Add your gates here\n",
    "\n",
    "hc.append(c)"
   ]
  },
  {
   "cell_type": "markdown",
   "metadata": {},
   "source": [
    "### Keep playing with the circuit using prepend and append until you gain some visual intuition about what the circuit does ...\n",
    "Once you're done, replicate the circuit below, and then call `check()` to see if your circuit matches the hidden circuit..."
   ]
  },
  {
   "cell_type": "code",
   "execution_count": null,
   "metadata": {},
   "outputs": [],
   "source": [
    "c = hc.get_empty_circuit()\n",
    "\n",
    "# Replicate the hidden circuit here\n",
    "\n",
    "hc.check(c)"
   ]
  },
  {
   "cell_type": "markdown",
   "metadata": {},
   "source": [
    "### Once you've figured out the hidden circuit, `submit()` it and then go back to `practice()` on the next stage!"
   ]
  },
  {
   "cell_type": "code",
   "execution_count": null,
   "metadata": {},
   "outputs": [],
   "source": [
    "sensei.submit(c)"
   ]
  },
  {
   "cell_type": "markdown",
   "metadata": {},
   "source": [
    "### Sometimes it's helpful to play around with circuits visually, so here's a useful tool to do just that: _Quirk_"
   ]
  },
  {
   "cell_type": "code",
   "execution_count": null,
   "metadata": {},
   "outputs": [],
   "source": [
    "from IPython.display import IFrame\n",
    "IFrame(src='https://algassert.com/quirk#circuit={%22cols%22:[[%22H%22,%22H%22]]}', width=900, height=600)"
   ]
  }
 ],
 "metadata": {
  "kernelspec": {
   "display_name": "Python 3",
   "language": "python",
   "name": "python3"
  },
  "language_info": {
   "codemirror_mode": {
    "name": "ipython",
    "version": 3
   },
   "file_extension": ".py",
   "mimetype": "text/x-python",
   "name": "python",
   "nbconvert_exporter": "python",
   "pygments_lexer": "ipython3",
   "version": "3.8.3"
  }
 },
 "nbformat": 4,
 "nbformat_minor": 2
}
