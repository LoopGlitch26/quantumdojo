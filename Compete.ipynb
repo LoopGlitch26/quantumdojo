{
 "cells": [
  {
   "cell_type": "markdown",
   "metadata": {},
   "source": [
    "# Quantum Circuit Intuition Dojo - Competition/Minimal Mode"
   ]
  },
  {
   "cell_type": "code",
   "execution_count": null,
   "metadata": {
    "ExecuteTime": {
     "end_time": "2018-09-25T16:48:16.163745Z",
     "start_time": "2018-09-25T16:48:15.794756Z"
    }
   },
   "outputs": [],
   "source": [
    "from Sensei import *"
   ]
  },
  {
   "cell_type": "code",
   "execution_count": null,
   "metadata": {
    "scrolled": false
   },
   "outputs": [],
   "source": [
    "sensei = Sensei(42, stage=21, verbosity=0, auto_submit=True) # things get hard around stage 13"
   ]
  },
  {
   "cell_type": "code",
   "execution_count": null,
   "metadata": {},
   "outputs": [],
   "source": [
    "hc = sensei.practice()"
   ]
  },
  {
   "cell_type": "code",
   "execution_count": null,
   "metadata": {
    "scrolled": true
   },
   "outputs": [],
   "source": [
    "c = hc.get_empty_circuit()\n",
    "# Add your gates here\n",
    "# hc.prepend(c, plot_fn=plot_bloch_multivector) # add gates before the hidden circuit to probe\n",
    "hc.append(c, plot_fn=plot_bloch_multivector) # add gates after the hidden circuit to 'uncompute'\n",
    "hc.check(c) # check replicated circuit against the hidden circuit to see if they match"
   ]
  },
  {
   "cell_type": "code",
   "execution_count": null,
   "metadata": {},
   "outputs": [],
   "source": [
    "from IPython.display import IFrame\n",
    "IFrame(src='https://algassert.com/quirk#circuit={%22cols%22:[[%22H%22,%22H%22]]}', width=900, height=600)"
   ]
  }
 ],
 "metadata": {
  "kernelspec": {
   "display_name": "Python 3",
   "language": "python",
   "name": "python3"
  },
  "language_info": {
   "codemirror_mode": {
    "name": "ipython",
    "version": 3
   },
   "file_extension": ".py",
   "mimetype": "text/x-python",
   "name": "python",
   "nbconvert_exporter": "python",
   "pygments_lexer": "ipython3",
   "version": "3.8.3"
  }
 },
 "nbformat": 4,
 "nbformat_minor": 2
}
